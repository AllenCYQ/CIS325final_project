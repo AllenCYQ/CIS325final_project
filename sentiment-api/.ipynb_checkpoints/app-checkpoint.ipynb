{
 "cells": [
  {
   "cell_type": "code",
   "execution_count": null,
   "id": "6a74dd51-64c0-4f19-bf46-a1c01178bd14",
   "metadata": {},
   "outputs": [],
   "source": [
    "import requests\n",
    "\n",
    "url = \"https://sentiment-api-agapbsa2bsc3bebf.centralus-01.azurewebsites.net\"\n",
    "\n",
    "# Example input\n",
    "review = {\"review\": \"Shipping was slow and product quality was poor\"}\n",
    "\n",
    "try:\n",
    "    response = requests.post(url, json=review)\n",
    "    print(\"Status code:\", response.status_code)\n",
    "    print(\"Response from model:\", response.json())\n",
    "except Exception as e:\n",
    "    print(\"Request failed:\", str(e))"
   ]
  }
 ],
 "metadata": {
  "kernelspec": {
   "display_name": "Python 3 (ipykernel)",
   "language": "python",
   "name": "python3"
  },
  "language_info": {
   "codemirror_mode": {
    "name": "ipython",
    "version": 3
   },
   "file_extension": ".py",
   "mimetype": "text/x-python",
   "name": "python",
   "nbconvert_exporter": "python",
   "pygments_lexer": "ipython3",
   "version": "3.12.4"
  }
 },
 "nbformat": 4,
 "nbformat_minor": 5
}
